{
 "metadata": {
  "language_info": {
   "codemirror_mode": {
    "name": "ipython",
    "version": 3
   },
   "file_extension": ".py",
   "mimetype": "text/x-python",
   "name": "python",
   "nbconvert_exporter": "python",
   "pygments_lexer": "ipython3",
   "version": "3.7.8-final"
  },
  "orig_nbformat": 2,
  "kernelspec": {
   "name": "python3",
   "display_name": "Python 3.7.8 64-bit ('fin_eng_env': conda)",
   "metadata": {
    "interpreter": {
     "hash": "e46f75178e8a1124af3c80e2bef1881c38f9adbda18e8170efdc8c82563356f8"
    }
   }
  }
 },
 "nbformat": 4,
 "nbformat_minor": 2,
 "cells": [
  {
   "cell_type": "code",
   "execution_count": 17,
   "metadata": {},
   "outputs": [],
   "source": [
    "class bin_tree:\n",
    "\n",
    "    def __init__(self, T, K, r, sigma, c, s0):\n",
    "        self.s0 = s0\n",
    "        self.T = T\n",
    "        self.K = K\n",
    "        self.r = r\n",
    "        self.sigma =sigma\n",
    "        self.c = c\n",
    "        self.s0 = s0\n",
    "\n",
    "    def show_s0(self):\n",
    "        return self.s0"
   ]
  },
  {
   "cell_type": "code",
   "execution_count": 18,
   "metadata": {},
   "outputs": [],
   "source": [
    "tree = bin_tree(10,10,10,10,10,5)"
   ]
  }
 ]
}