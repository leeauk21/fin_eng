{
 "metadata": {
  "language_info": {
   "codemirror_mode": {
    "name": "ipython",
    "version": 3
   },
   "file_extension": ".py",
   "mimetype": "text/x-python",
   "name": "python",
   "nbconvert_exporter": "python",
   "pygments_lexer": "ipython3",
   "version": "3.7.8-final"
  },
  "orig_nbformat": 2,
  "kernelspec": {
   "name": "python3",
   "display_name": "Python 3.7.8 64-bit ('fin_eng_env': conda)",
   "metadata": {
    "interpreter": {
     "hash": "e46f75178e8a1124af3c80e2bef1881c38f9adbda18e8170efdc8c82563356f8"
    }
   }
  }
 },
 "nbformat": 4,
 "nbformat_minor": 2,
 "cells": [
  {
   "cell_type": "code",
   "execution_count": 8,
   "metadata": {},
   "outputs": [],
   "source": [
    "import numpy as np\n",
    "import math"
   ]
  },
  {
   "cell_type": "code",
   "execution_count": 6,
   "metadata": {},
   "outputs": [],
   "source": [
    "# using black scholes formula to calibrate parameters\n",
    "sigma = 0.3\n",
    "T = 0.25\n",
    "n =15\n",
    "r = 0.02\n",
    "c = 0.01"
   ]
  },
  {
   "cell_type": "code",
   "execution_count": 16,
   "metadata": {},
   "outputs": [],
   "source": [
    "# as u, d , R are all dynamic variables\n",
    "# define functions to get them"
   ]
  },
  {
   "cell_type": "code",
   "execution_count": 19,
   "metadata": {},
   "outputs": [],
   "source": []
  },
  {
   "cell_type": "code",
   "execution_count": 78,
   "metadata": {},
   "outputs": [],
   "source": [
    "class bin_tree:\n",
    "\n",
    "    def __init__(self):\n",
    "        sigma = 0.3\n",
    "        T = 0.25\n",
    "        self.n =15\n",
    "        r = 0.02\n",
    "        c = 0.01\n",
    "        self.s0 = 100\n",
    "        self.R = math.exp(r*T/n)\n",
    "        self.u = math.exp(sigma*np.sqrt(T/n))\n",
    "        exponent = (r-c)*T/n\n",
    "        self.q = (math.exp(exponent) - d) /(u-d)\n",
    "\n",
    "    def generate_price(self):\n",
    "        arr=[[self.s0]]\n",
    "        for i in range(self.n):\n",
    "            arr_to_add=[]\n",
    "            for j in range(len(arr[i])):\n",
    "                arr_to_add.append(arr[i][j]/u)\n",
    "                if j == (len(arr[i])-1):\n",
    "                    arr_to_add.append(arr[i][j]*self.u)\n",
    "            arr.append(arr_to_add)\n",
    "        return arr\n",
    "    \n",
    "        "
   ]
  },
  {
   "cell_type": "code",
   "execution_count": 82,
   "metadata": {},
   "outputs": [
    {
     "output_type": "execute_result",
     "data": {
      "text/plain": [
       "[[100],\n",
       " [96.20105771080377, 103.94896104013375],\n",
       " [92.54643504677396, 100.0, 108.05386501323245],\n",
       " [89.03064938863855,\n",
       "  96.20105771080377,\n",
       "  103.94896104013375,\n",
       "  112.32087004496373],\n",
       " [85.64842639866754,\n",
       "  92.54643504677396,\n",
       "  100.0,\n",
       "  108.05386501323245,\n",
       "  116.75637744297862],\n",
       " [82.39469210817745,\n",
       "  89.03064938863855,\n",
       "  96.20105771080377,\n",
       "  103.94896104013375,\n",
       "  112.32087004496373,\n",
       "  121.36704130007337],\n",
       " [79.26456530562687,\n",
       "  85.64842639866754,\n",
       "  92.54643504677396,\n",
       "  100.0,\n",
       "  108.05386501323245,\n",
       "  116.75637744297862,\n",
       "  126.1597784765763],\n",
       " [76.25335021388385,\n",
       "  82.39469210817745,\n",
       "  89.03064938863855,\n",
       "  96.20105771080377,\n",
       "  103.94896104013375,\n",
       "  112.32087004496373,\n",
       "  121.36704130007337,\n",
       "  131.14177897693537],\n",
       " [73.35652944567971,\n",
       "  79.26456530562687,\n",
       "  85.64842639866754,\n",
       "  92.54643504677396,\n",
       "  100.0,\n",
       "  108.05386501323245,\n",
       "  116.75637744297862,\n",
       "  126.15977847657632,\n",
       "  136.32051673607288],\n",
       " [70.5697572266811,\n",
       "  76.25335021388385,\n",
       "  82.39469210817745,\n",
       "  89.03064938863855,\n",
       "  96.20105771080377,\n",
       "  103.94896104013375,\n",
       "  112.32087004496373,\n",
       "  121.36704130007338,\n",
       "  131.14177897693537,\n",
       "  141.7037608316894],\n",
       " [67.8888528760136,\n",
       "  73.35652944567971,\n",
       "  79.26456530562687,\n",
       "  85.64842639866754,\n",
       "  92.54643504677396,\n",
       "  100.0,\n",
       "  108.05386501323245,\n",
       "  116.75637744297863,\n",
       "  126.15977847657632,\n",
       "  136.32051673607288,\n",
       "  147.29958713933715],\n",
       " [65.3097945344565,\n",
       "  70.5697572266811,\n",
       "  76.25335021388385,\n",
       "  82.39469210817745,\n",
       "  89.03064938863855,\n",
       "  96.20105771080377,\n",
       "  103.94896104013375,\n",
       "  112.32087004496374,\n",
       "  121.36704130007338,\n",
       "  131.14177897693537,\n",
       "  141.7037608316894,\n",
       "  153.11639044774745],\n",
       " [62.828713130899864,\n",
       "  67.8888528760136,\n",
       "  73.35652944567971,\n",
       "  79.26456530562687,\n",
       "  85.64842639866754,\n",
       "  92.54643504677396,\n",
       "  100.0,\n",
       "  108.05386501323247,\n",
       "  116.75637744297863,\n",
       "  126.15977847657632,\n",
       "  136.32051673607288,\n",
       "  147.29958713933715,\n",
       "  159.16289705258808],\n",
       " [60.44188657801232,\n",
       "  65.3097945344565,\n",
       "  70.5697572266811,\n",
       "  76.25335021388385,\n",
       "  82.39469210817745,\n",
       "  89.03064938863855,\n",
       "  96.20105771080377,\n",
       "  103.94896104013377,\n",
       "  112.32087004496374,\n",
       "  121.36704130007338,\n",
       "  131.14177897693537,\n",
       "  141.7037608316894,\n",
       "  153.11639044774745,\n",
       "  165.44817784754298],\n",
       " [58.14573418841219,\n",
       "  62.828713130899864,\n",
       "  67.8888528760136,\n",
       "  73.35652944567971,\n",
       "  79.26456530562687,\n",
       "  85.64842639866754,\n",
       "  92.54643504677396,\n",
       "  100.00000000000001,\n",
       "  108.05386501323247,\n",
       "  116.75637744297863,\n",
       "  126.15977847657632,\n",
       "  136.32051673607288,\n",
       "  147.29958713933715,\n",
       "  159.16289705258808,\n",
       "  171.98166193235366],\n",
       " [55.93681130296497,\n",
       "  60.44188657801232,\n",
       "  65.3097945344565,\n",
       "  70.5697572266811,\n",
       "  76.25335021388385,\n",
       "  82.39469210817745,\n",
       "  89.03064938863855,\n",
       "  96.20105771080378,\n",
       "  103.94896104013377,\n",
       "  112.32087004496374,\n",
       "  121.36704130007338,\n",
       "  131.14177897693537,\n",
       "  141.7037608316894,\n",
       "  153.11639044774745,\n",
       "  165.44817784754298,\n",
       "  178.77315075823685]]"
      ]
     },
     "metadata": {},
     "execution_count": 82
    }
   ],
   "source": [
    "check1 = bin_tree()\n",
    "check1.generate_price()"
   ]
  },
  {
   "cell_type": "code",
   "execution_count": 85,
   "metadata": {},
   "outputs": [],
   "source": [
    "#generate price\n",
    "def generate_price(n,u,s0):\n",
    "    arr=[[s0]]\n",
    "    for i in range(n):\n",
    "        arr_to_add=[]\n",
    "        for j in range(len(arr[i])):\n",
    "            arr_to_add.append(arr[i][j]/u)\n",
    "            if j == (len(arr[i])-1):\n",
    "                arr_to_add.append(arr[i][j]*u)\n",
    "        arr.append(arr_to_add)\n",
    "    return arr"
   ]
  },
  {
   "cell_type": "code",
   "execution_count": 86,
   "metadata": {},
   "outputs": [],
   "source": [
    "price_arr = generate_price(15,u,100)"
   ]
  },
  {
   "cell_type": "code",
   "execution_count": 87,
   "metadata": {},
   "outputs": [
    {
     "output_type": "execute_result",
     "data": {
      "text/plain": [
       "[[100],\n",
       " [93.45794392523364, 107.0],\n",
       " [87.34387282732115, 100.0, 114.49000000000001],\n",
       " [81.62978768908518, 93.45794392523364, 107.0, 122.50430000000001]]"
      ]
     },
     "metadata": {},
     "execution_count": 87
    }
   ],
   "source": [
    "check = generate_price(3,1.07,100)\n",
    "check"
   ]
  },
  {
   "cell_type": "code",
   "execution_count": 97,
   "metadata": {},
   "outputs": [],
   "source": [
    "def generate_option_pricing(arr,strike):\n",
    "    res=[]\n",
    "    arr_rev = np.array(arr[::-1])\n",
    "    print(type(arr_rev[0]))\n",
    "    \n",
    "\n"
   ]
  },
  {
   "cell_type": "code",
   "execution_count": 98,
   "metadata": {},
   "outputs": [
    {
     "output_type": "stream",
     "name": "stdout",
     "text": [
      "<class 'list'>\n"
     ]
    }
   ],
   "source": [
    "generate_option_pricing(check,100)"
   ]
  },
  {
   "cell_type": "code",
   "execution_count": 90,
   "metadata": {},
   "outputs": [
    {
     "output_type": "execute_result",
     "data": {
      "text/plain": [
       "array([2, 3, 4])"
      ]
     },
     "metadata": {},
     "execution_count": 90
    }
   ],
   "source": []
  },
  {
   "cell_type": "code",
   "execution_count": null,
   "metadata": {},
   "outputs": [],
   "source": []
  }
 ]
}