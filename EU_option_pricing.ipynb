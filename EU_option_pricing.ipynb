{
 "metadata": {
  "language_info": {
   "codemirror_mode": {
    "name": "ipython",
    "version": 3
   },
   "file_extension": ".py",
   "mimetype": "text/x-python",
   "name": "python",
   "nbconvert_exporter": "python",
   "pygments_lexer": "ipython3",
   "version": "3.7.0-final"
  },
  "orig_nbformat": 2,
  "kernelspec": {
   "name": "python3",
   "display_name": "Python 3.7.0 64-bit ('fin_eng_env': conda)",
   "metadata": {
    "interpreter": {
     "hash": "e46f75178e8a1124af3c80e2bef1881c38f9adbda18e8170efdc8c82563356f8"
    }
   }
  }
 },
 "nbformat": 4,
 "nbformat_minor": 2,
 "cells": [
  {
   "cell_type": "code",
   "execution_count": 24,
   "metadata": {},
   "outputs": [],
   "source": [
    "import math"
   ]
  },
  {
   "cell_type": "code",
   "execution_count": 25,
   "metadata": {},
   "outputs": [],
   "source": [
    "class bin_tree:\n",
    "\n",
    "    def __init__(self,q,R,K,s0,u,n):\n",
    "        self.q = q\n",
    "        self.R = R\n",
    "        self.K = K\n",
    "        self.s0 = s0\n",
    "        self.n = n\n",
    "        self.u = u\n",
    "        \n",
    "    \n",
    "    def generate_price(self):\n",
    "        arr=[[self.s0]]\n",
    "        for i in range(self.n):\n",
    "            arr_to_add=[]\n",
    "            for j in range(len(arr[i])):\n",
    "                arr_to_add.append(arr[i][j]/self.u)\n",
    "                if j == (len(arr[i])-1):\n",
    "                    arr_to_add.append(arr[i][j]*self.u)\n",
    "            arr.append(arr_to_add)\n",
    "        return arr\n",
    "\n",
    "    def neutral_pricing(self,p1,p2):\n",
    "        price = ((1-self.q)*p1 + (self.q)*p2)/self.R\n",
    "        return price\n",
    "\n",
    "    def generate_option_pricing(self):\n",
    "        arr = self.generate_price()\n",
    "        arr_rev = arr[::-1]\n",
    "        res=[]\n",
    "        for i in range(len(arr_rev)):\n",
    "            res_to_add = []\n",
    "            for j in range(len(arr_rev[i])):\n",
    "                if i == 0:\n",
    "                    a = max(arr_rev[i][j]-self.K,0)\n",
    "                    res_to_add.append(a)\n",
    "                else:\n",
    "                    price = self.neutral_pricing(res[i-1][j], res[i-1][j+1])\n",
    "                    #a = max(arr_rev[i][j]-strike,0)\n",
    "                    #a = max(a,price)\n",
    "                    a = price\n",
    "                    res_to_add.append(a)\n",
    "                \n",
    "            res.append(res_to_add)\n",
    "        return res[::-1]\n"
   ]
  },
  {
   "cell_type": "code",
   "execution_count": 26,
   "metadata": {},
   "outputs": [],
   "source": [
    "eu=bin_tree(0.5570838,1.01,100,100,1.07,3)"
   ]
  },
  {
   "cell_type": "code",
   "execution_count": 27,
   "metadata": {},
   "outputs": [
    {
     "output_type": "execute_result",
     "data": {
      "text/plain": [
       "[[100],\n",
       " [93.45794392523364, 107.0],\n",
       " [87.34387282732115, 100.0, 114.49000000000001],\n",
       " [81.62978768908518, 93.45794392523364, 107.0, 122.50430000000001]]"
      ]
     },
     "metadata": {},
     "execution_count": 27
    }
   ],
   "source": [
    "eu.generate_price()"
   ]
  },
  {
   "cell_type": "code",
   "execution_count": 28,
   "metadata": {},
   "outputs": [
    {
     "output_type": "execute_result",
     "data": {
      "text/plain": [
       "[[6.577944726334834],\n",
       " [2.1295917278277425, 10.232739666738262],\n",
       " [0.0, 3.8609768316831685, 15.482370653801988],\n",
       " [0, 0, 7.0, 22.504300000000015]]"
      ]
     },
     "metadata": {},
     "execution_count": 28
    }
   ],
   "source": [
    "eu.generate_option_pricing()"
   ]
  },
  {
   "cell_type": "code",
   "execution_count": null,
   "metadata": {},
   "outputs": [],
   "source": []
  }
 ]
}