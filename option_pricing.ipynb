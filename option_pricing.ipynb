{
 "metadata": {
  "language_info": {
   "codemirror_mode": {
    "name": "ipython",
    "version": 3
   },
   "file_extension": ".py",
   "mimetype": "text/x-python",
   "name": "python",
   "nbconvert_exporter": "python",
   "pygments_lexer": "ipython3",
   "version": "3.7.0-final"
  },
  "orig_nbformat": 2,
  "kernelspec": {
   "name": "python3",
   "display_name": "Python 3.7.0 64-bit ('fin_eng_env': conda)",
   "metadata": {
    "interpreter": {
     "hash": "e46f75178e8a1124af3c80e2bef1881c38f9adbda18e8170efdc8c82563356f8"
    }
   }
  }
 },
 "nbformat": 4,
 "nbformat_minor": 2,
 "cells": [
  {
   "cell_type": "code",
   "execution_count": null,
   "metadata": {},
   "outputs": [],
   "source": [
    "import math"
   ]
  },
  {
   "cell_type": "code",
   "execution_count": null,
   "metadata": {},
   "outputs": [],
   "source": [
    "class bin_tree:\n",
    "\n",
    "    def __init__(self,q,R,K,s0,u,n):\n",
    "        self.q = q\n",
    "        self.R = R\n",
    "        self.K = K\n",
    "        self.s0 = s0\n",
    "        self.n = n\n",
    "        self.u = u\n",
    "        \n",
    "    \n",
    "    def generate_price(self):\n",
    "        arr=[[self.s0]]\n",
    "        for i in range(self.n):\n",
    "            arr_to_add=[]\n",
    "            for j in range(len(arr[i])):\n",
    "                arr_to_add.append(arr[i][j]/self.u)\n",
    "                if j == (len(arr[i])-1):\n",
    "                    arr_to_add.append(arr[i][j]*self.u)\n",
    "            arr.append(arr_to_add)\n",
    "        return arr\n",
    "\n",
    "    def neutral_pricing(self,p1,p2):\n",
    "        price = ((1-self.q)*p1 + (self.q)*p2)/self.R\n",
    "        return price\n",
    "\n",
    "    def eu_call(self):\n",
    "        arr = self.generate_price()\n",
    "        arr_rev = arr[::-1]\n",
    "        res=[]\n",
    "        for i in range(len(arr_rev)):\n",
    "            res_to_add = []\n",
    "            for j in range(len(arr_rev[i])):\n",
    "                if i == 0:\n",
    "                    a = max(arr_rev[i][j]-self.K,0)\n",
    "                    res_to_add.append(a)\n",
    "                else:\n",
    "                    price = self.neutral_pricing(res[i-1][j], res[i-1][j+1])\n",
    "                    #a = max(arr_rev[i][j]-strike,0)\n",
    "                    #a = max(a,price)\n",
    "                    a = price\n",
    "                    res_to_add.append(a)\n",
    "                \n",
    "            res.append(res_to_add)\n",
    "        return res[::-1]\n",
    "\n",
    "    def eu_put(self):\n",
    "        arr = self.generate_price()\n",
    "        arr_rev = arr[::-1]\n",
    "        res=[]\n",
    "        for i in range(len(arr_rev)):\n",
    "            res_to_add = []\n",
    "            for j in range(len(arr_rev[i])):\n",
    "                if i == 0:\n",
    "                    a = max(self.K-arr_rev[i][j],0)\n",
    "                    res_to_add.append(a)\n",
    "                else:\n",
    "                    price = self.neutral_pricing(res[i-1][j], res[i-1][j+1])\n",
    "                    #a = max(arr_rev[i][j]-strike,0)\n",
    "                    #a = max(a,price)\n",
    "                    a = price\n",
    "                    res_to_add.append(a)\n",
    "                \n",
    "            res.append(res_to_add)\n",
    "        return res[::-1]\n",
    "\n",
    "    def us_call(self):\n",
    "        arr = self.generate_price()\n",
    "        arr_rev = arr[::-1]\n",
    "        res=[]\n",
    "        for i in range(len(arr_rev)):\n",
    "            res_to_add = []\n",
    "            for j in range(len(arr_rev[i])):\n",
    "                if i == 0:\n",
    "                    a = max(arr_rev[i][j]-self.K,0)\n",
    "                    res_to_add.append(a)\n",
    "                else:\n",
    "                    price = self.neutral_pricing(res[i-1][j], res[i-1][j+1])\n",
    "                    a1 = max(arr_rev[i][j]-self.K,0)\n",
    "                    a = max(a1,price)\n",
    "                    res_to_add.append(a)\n",
    "                \n",
    "            res.append(res_to_add)\n",
    "        return res[::-1]\n",
    "\n",
    "    def us_put(self):\n",
    "        arr = self.generate_price()\n",
    "        arr_rev = arr[::-1]\n",
    "        res=[]\n",
    "        for i in range(len(arr_rev)):\n",
    "            res_to_add = []\n",
    "            for j in range(len(arr_rev[i])):\n",
    "                if i == 0:\n",
    "                    a = max(self.K-arr_rev[i][j],0)\n",
    "                    res_to_add.append(a)\n",
    "                else:\n",
    "                    price = self.neutral_pricing(res[i-1][j], res[i-1][j+1])\n",
    "                    a1 = max(self.K-arr_rev[i][j],0)\n",
    "                    a = max(a1,price)\n",
    "                    res_to_add.append(a)\n",
    "                \n",
    "            res.append(res_to_add)\n",
    "        return res[::-1]\n",
    "\n",
    "    def us_put_early_ex(self):\n",
    "        early_ex = False\n",
    "        early_ex_earning = 0\n",
    "        early_ex_time = self.n\n",
    "        arr = self.generate_price()\n",
    "        arr_rev = arr[::-1]\n",
    "        res=[]\n",
    "        for i in range(len(arr_rev)):\n",
    "            res_to_add = []\n",
    "            for j in range(len(arr_rev[i])):\n",
    "                if i == 0:\n",
    "                    a = max(self.K-arr_rev[i][j],0)\n",
    "                    res_to_add.append(a)\n",
    "                else:\n",
    "                    price = self.neutral_pricing(res[i-1][j], res[i-1][j+1])\n",
    "                    a1 = max(self.K-arr_rev[i][j],0)\n",
    "                    if a1 > price:\n",
    "                        if early_ex_time == self.n - i:\n",
    "                            early_ex_earning = max(early_ex_earning,a1)\n",
    "                        else:\n",
    "                            early_ex_earning = a1\n",
    "                        early_ex =True\n",
    "                        early_ex_time = self.n - i\n",
    "\n",
    "\n",
    "                    a = max(a1,price)\n",
    "                    res_to_add.append(a)\n",
    "                \n",
    "            res.append(res_to_add)\n",
    "        print(res[::-1])\n",
    "        return {early_ex_time:early_ex_earning} if early_ex == True else False\n"
   ]
  },
  {
   "cell_type": "code",
   "execution_count": null,
   "metadata": {},
   "outputs": [],
   "source": [
    "eu=bin_tree(0.5570838,1.01,100,100,1.07,3)"
   ]
  },
  {
   "cell_type": "code",
   "execution_count": null,
   "metadata": {},
   "outputs": [],
   "source": [
    "eu.generate_price()"
   ]
  },
  {
   "cell_type": "code",
   "execution_count": null,
   "metadata": {},
   "outputs": [],
   "source": [
    "eu.eu_call()"
   ]
  },
  {
   "cell_type": "code",
   "execution_count": null,
   "metadata": {},
   "outputs": [],
   "source": [
    "eu.us_call()"
   ]
  },
  {
   "cell_type": "code",
   "execution_count": null,
   "metadata": {},
   "outputs": [],
   "source": [
    "eu.us_put()"
   ]
  },
  {
   "cell_type": "code",
   "execution_count": null,
   "metadata": {},
   "outputs": [],
   "source": [
    "eu.us_put_early_ex()"
   ]
  },
  {
   "cell_type": "code",
   "execution_count": null,
   "metadata": {},
   "outputs": [],
   "source": [
    "eu.eu_put()"
   ]
  },
  {
   "cell_type": "code",
   "execution_count": null,
   "metadata": {},
   "outputs": [],
   "source": []
  }
 ]
}